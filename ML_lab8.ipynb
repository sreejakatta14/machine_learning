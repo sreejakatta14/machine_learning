{
  "nbformat": 4,
  "nbformat_minor": 0,
  "metadata": {
    "colab": {
      "provenance": [],
      "authorship_tag": "ABX9TyPrhE/8KOgefsSueM9RFFpm",
      "include_colab_link": true
    },
    "kernelspec": {
      "name": "python3",
      "display_name": "Python 3"
    },
    "language_info": {
      "name": "python"
    }
  },
  "cells": [
    {
      "cell_type": "markdown",
      "metadata": {
        "id": "view-in-github",
        "colab_type": "text"
      },
      "source": [
        "<a href=\"https://colab.research.google.com/github/sreejakatta14/machine_learning/blob/main/ML_lab8.ipynb\" target=\"_parent\"><img src=\"https://colab.research.google.com/assets/colab-badge.svg\" alt=\"Open In Colab\"/></a>"
      ]
    },
    {
      "cell_type": "code",
      "execution_count": 13,
      "metadata": {
        "id": "fj-4zMsiELzW"
      },
      "outputs": [],
      "source": [
        "import numpy as np\n",
        "X = np.array(([2,9],[1,5],[3,6]),dtype=float)\n",
        "y = np.array(([92],[86], [89]), dtype=float)\n",
        "X = X/np.amax(X,axis=0)\n",
        "y = y/100\n",
        "epoch=5000\n",
        "lr=0.1\n",
        "inputlayer_neurons = 2\n",
        "hiddenlayer_neurons = 3\n",
        "output_neurons = 1\n",
        "\n",
        "wh = np.random.uniform(size=(inputlayer_neurons, hiddenlayer_neurons))\n",
        "bh = np.random.uniform(size=(1,hiddenlayer_neurons))\n",
        "wout = np.random.uniform(size=(hiddenlayer_neurons, output_neurons))\n",
        "bout = np.random.uniform(size=(1,output_neurons))"
      ]
    },
    {
      "cell_type": "code",
      "source": [
        "def sigmoid (x):\n",
        "  return 1/(1+np.exp(-x))\n",
        "\n",
        "def derivatives_sigmoid(x):\n",
        "  return x * (1-x)"
      ],
      "metadata": {
        "id": "m8d1rAkCF3xc"
      },
      "execution_count": 14,
      "outputs": []
    },
    {
      "cell_type": "code",
      "source": [
        "for i in range(epoch):\n",
        "  hinp1=np.dot(X,wh)\n",
        "  hinp=hinp1+ bh\n",
        "  hlayer_act = sigmoid(hinp)\n",
        "  outinp1=np.dot(hlayer_act, wout)\n",
        "  outinp = outinp1 + bout\n",
        "  output = sigmoid(outinp)\n",
        "\n",
        "  EO = y-output\n",
        "  outgrad = derivatives_sigmoid(output)\n",
        "  d_output = EO * outgrad\n",
        "  EH = d_output.dot(wout.T)\n",
        "  hiddengrad = derivatives_sigmoid(hlayer_act)\n",
        "  d_hiddenlayer = EH * hiddengrad\n",
        "\n",
        "wout += hlayer_act.T.dot(d_output) * lr\n",
        "wh += X.T.dot(d_hiddenlayer) * lr\n",
        "\n",
        "print(\"Input: \\n\" + str(X))\n",
        "print(\"Actual Output: \\n\" + str(y))\n",
        "print(\"Predicted Output: \\n\", output)"
      ],
      "metadata": {
        "colab": {
          "base_uri": "https://localhost:8080/"
        },
        "id": "q6VOA8FSGIec",
        "outputId": "68760280-76ed-4b78-f1d3-e5f1ad93f9d1"
      },
      "execution_count": 15,
      "outputs": [
        {
          "output_type": "stream",
          "name": "stdout",
          "text": [
            "Input: \n",
            "[[0.66666667 1.        ]\n",
            " [0.33333333 0.55555556]\n",
            " [1.         0.66666667]]\n",
            "Actual Output: \n",
            "[[0.92]\n",
            " [0.86]\n",
            " [0.89]]\n",
            "Predicted Output: \n",
            " [[0.76787301]\n",
            " [0.75248028]\n",
            " [0.77506492]]\n"
          ]
        }
      ]
    },
    {
      "cell_type": "code",
      "source": [
        "# Import necessary libraries\n",
        "import pandas as pd\n",
        "from sklearn.model_selection import train_test_split\n",
        "from sklearn.ensemble import RandomForestClassifier\n",
        "from sklearn.metrics import accuracy_score, classification_report\n",
        "import warnings\n",
        "warnings.filterwarnings('ignore')\n",
        "# Load the Titanic dataset\n",
        "url = \"https://raw.githubusercontent.com/datasciencedojo/datasets/master/titanic.csv\"\n",
        "titanic_data = pd.read_csv(url)\n",
        "\n",
        "# Drop rows with missing target values\n",
        "titanic_data = titanic_data.dropna(subset=['Survived'])\n",
        "\n",
        "# Select relevant features and target variable\n",
        "X = titanic_data[['Pclass', 'Sex', 'Age', 'SibSp', 'Parch', 'Fare']]\n",
        "y = titanic_data['Survived']\n",
        "\n",
        "# Convert categorical variable 'Sex' to numerical using .loc\n",
        "X.loc[:, 'Sex'] = X['Sex'].map({'female': 0, 'male': 1})\n",
        "\n",
        "# Handle missing values in the 'Age' column using .loc\n",
        "X.loc[:, 'Age'].fillna(X['Age'].median(), inplace=True)\n",
        "\n",
        "# Split the dataset into training and testing sets\n",
        "X_train, X_test, y_train, y_test = train_test_split(X, y, test_size=0.2, random_state=42)\n",
        "\n",
        "# Create a Random Forest Classifier\n",
        "rf_classifier = RandomForestClassifier(n_estimators=100, random_state=42)\n",
        "\n",
        "# Train the classifier\n",
        "rf_classifier.fit(X_train, y_train)\n",
        "\n",
        "# Make predictions on the test set\n",
        "y_pred = rf_classifier.predict(X_test)\n",
        "\n",
        "# Evaluate the model\n",
        "accuracy = accuracy_score(y_test, y_pred)\n",
        "classification_rep = classification_report(y_test, y_pred)\n",
        "\n",
        "# Print the results\n",
        "print(f\"Accuracy: {accuracy:.2f}\")\n",
        "print(\"\\nClassification Report:\\n\", classification_rep)\n"
      ],
      "metadata": {
        "colab": {
          "base_uri": "https://localhost:8080/"
        },
        "id": "kdMIiFu9MxkM",
        "outputId": "8b55bd7a-57b8-46b9-fdd3-b85f66f59045"
      },
      "execution_count": 16,
      "outputs": [
        {
          "output_type": "stream",
          "name": "stdout",
          "text": [
            "Accuracy: 0.80\n",
            "\n",
            "Classification Report:\n",
            "               precision    recall  f1-score   support\n",
            "\n",
            "           0       0.82      0.85      0.83       105\n",
            "           1       0.77      0.73      0.75        74\n",
            "\n",
            "    accuracy                           0.80       179\n",
            "   macro avg       0.79      0.79      0.79       179\n",
            "weighted avg       0.80      0.80      0.80       179\n",
            "\n"
          ]
        }
      ]
    }
  ]
}